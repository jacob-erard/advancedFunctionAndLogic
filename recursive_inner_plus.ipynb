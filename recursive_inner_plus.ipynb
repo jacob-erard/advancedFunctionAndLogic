{
 "cells": [
  {
   "cell_type": "code",
   "execution_count": 13,
   "id": "7ccb3a70-7597-4327-b825-018d3d64d028",
   "metadata": {},
   "outputs": [
    {
     "name": "stdout",
     "output_type": "stream",
     "text": [
      "[56]\n",
      "[23424]\n"
     ]
    }
   ],
   "source": [
    "# Recursive function of recursive driver\n",
    "def recursive_inner_plus(itemList, deepestList, depth):\n",
    "    # The starting index\n",
    "    i = 0\n",
    "    # While we aren't at the end of the itemList (the current list)\n",
    "    while i < len(itemList):\n",
    "        # If the next item is a list, traverse deeper into the list\n",
    "        if isinstance(itemList[i], list):\n",
    "            _, deepestDepth = deepestList\n",
    "            # If we go deeper than we did any other time, itemList[i] is now the deepest list\n",
    "            if depth + 1 > deepestDepth:\n",
    "                deepestList = (itemList[i], depth+1)\n",
    "            # This is the most important step, if we go any deeper, deepestList is reassigned. Otherwise, it stays the same.\n",
    "            deepestList = recursive_inner_plus(itemList[i], deepestList, depth+1)\n",
    "        i+=1\n",
    "    # Return the deepest list\n",
    "    return deepestList\n",
    "\n",
    "# recursive driver, this function takes in an array and returns the deepest nested list after adding one to each of its values\n",
    "def recursive_driver(itemList):\n",
    "    deepestList = (itemList, 0)\n",
    "    #Call the recursive helper function\n",
    "    finalList, _ = recursive_inner_plus(itemList, deepestList, 0)\n",
    "    for i in range(len(finalList)):\n",
    "        finalList[i] += 1\n",
    "    # return the deepest nested list\n",
    "    return finalList"
   ]
  },
  {
   "cell_type": "code",
   "execution_count": null,
   "id": "925db46f-3d5c-400c-be6d-c9eb65712be0",
   "metadata": {},
   "outputs": [],
   "source": []
  }
 ],
 "metadata": {
  "kernelspec": {
   "display_name": "Python 3 (ipykernel)",
   "language": "python",
   "name": "python3"
  },
  "language_info": {
   "codemirror_mode": {
    "name": "ipython",
    "version": 3
   },
   "file_extension": ".py",
   "mimetype": "text/x-python",
   "name": "python",
   "nbconvert_exporter": "python",
   "pygments_lexer": "ipython3",
   "version": "3.12.5"
  }
 },
 "nbformat": 4,
 "nbformat_minor": 5
}
