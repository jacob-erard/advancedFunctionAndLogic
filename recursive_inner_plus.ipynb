{
 "cells": [
  {
   "cell_type": "code",
   "execution_count": 9,
   "id": "7ccb3a70-7597-4327-b825-018d3d64d028",
   "metadata": {},
   "outputs": [],
   "source": [
    "# Recursive function of recursive driver\n",
    "def recursive_inner_plus(itemList, deepestLists, depth):\n",
    "    # The starting index\n",
    "    i = 0\n",
    "    # While we aren't at the end of the itemList (the current list)\n",
    "    while i < len(itemList):\n",
    "        # If the next item is a list, traverse deeper into the list\n",
    "        if isinstance(itemList[i], list):\n",
    "            currentDeepestLists, deepestDepth = deepestLists\n",
    "            # If we go deeper than we did any other time, itemList[i] is now the deepest list\n",
    "            if depth + 1 > deepestDepth:\n",
    "                deepestLists = ([itemList[i]], depth + 1)\n",
    "            # If we are at the same deepest depth, add itemList[i] to the deepest lists\n",
    "            if depth + 1 == deepestDepth:\n",
    "                currentDeepestLists.append(itemList[i])\n",
    "                deepestLists = (currentDeepestLists, deepestDepth)\n",
    "            # This is the most important step, if we go any deeper, deepestLists is reassigned. Otherwise, it stays the same.\n",
    "            deepestList = recursive_inner_plus(itemList[i], deepestLists, depth+1)\n",
    "        i+=1\n",
    "    # Return the deepest list(s)\n",
    "    return deepestLists\n",
    "\n",
    "# recursive driver, this function takes in an array and returns the deepest nested list(s) after adding one to each of its values\n",
    "def recursive_driver(itemList):\n",
    "    deepestLists = ([itemList], 0)\n",
    "    #Call the recursive helper function\n",
    "    finalLists, _ = recursive_inner_plus(itemList, deepestLists, 0)\n",
    "    for item in finalLists:\n",
    "        for i in range (len(item)):\n",
    "                item[i] += 1\n",
    " # return the deepest nested list(s)\n",
    "    return finalLists\n"
   ]
  },
  {
   "cell_type": "code",
   "execution_count": null,
   "id": "925db46f-3d5c-400c-be6d-c9eb65712be0",
   "metadata": {},
   "outputs": [],
   "source": []
  }
 ],
 "metadata": {
  "kernelspec": {
   "display_name": "Python 3 (ipykernel)",
   "language": "python",
   "name": "python3"
  },
  "language_info": {
   "codemirror_mode": {
    "name": "ipython",
    "version": 3
   },
   "file_extension": ".py",
   "mimetype": "text/x-python",
   "name": "python",
   "nbconvert_exporter": "python",
   "pygments_lexer": "ipython3",
   "version": "3.12.5"
  }
 },
 "nbformat": 4,
 "nbformat_minor": 5
}
