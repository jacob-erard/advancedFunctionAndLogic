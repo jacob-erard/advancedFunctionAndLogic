{
 "cells": [
  {
   "cell_type": "code",
   "execution_count": 6,
   "id": "f004e237-ae16-4195-9ed9-324298e5b06c",
   "metadata": {},
   "outputs": [
    {
     "name": "stdout",
     "output_type": "stream",
     "text": [
      "[[2, 3], [4, 5]]\n"
     ]
    }
   ],
   "source": [
    "def while_inner_plus(lis):\n",
    "    depth = 0\n",
    "    currentList = lis.copy()\n",
    "    deepestLists = ([lis.copy()], 0)\n",
    "    deepestDepth = 0\n",
    "    stack = []\n",
    "    i = 0\n",
    "    while True:\n",
    "        # If we are at the end of any list, do this\n",
    "        if i == len(currentList):\n",
    "            # If we are at the end of list, return the deepest list(s) + 1 to each element\n",
    "            if currentList == lis:\n",
    "                finalLists, _ = deepestLists\n",
    "                for deepList in finalLists:\n",
    "                    for e in range(len(deepList)):\n",
    "                        deepList[e] += 1\n",
    "                return finalLists\n",
    "            # Otherwise, traverse up to a higher level array\n",
    "            else:\n",
    "                currentList, i, depth = stack.pop()\n",
    "                i += 1\n",
    "                continue\n",
    "        # if the next item is a list, do the following\n",
    "        if isinstance(currentList[i], list):\n",
    "            # Save the current state in stack, set the current list to the inner list, increase the depth, and update deepest lists if necessary.\n",
    "            stack.append((currentList, i, depth))\n",
    "            currentList = currentList[i]\n",
    "            depth += 1\n",
    "            i=0\n",
    "\n",
    "            # Check to see which depth we are at. If it's at a greater depth,\n",
    "            # reassign deepestLists to be the new deepest list\n",
    "            currentDeepestLists, deepestDepth = deepestLists\n",
    "            if deepestDepth < depth:\n",
    "                deepestLists = ([currentList], depth)\n",
    "            # If it's equal to the deepest depth, add this list to the deepest lists.\n",
    "            elif depth == deepestDepth:\n",
    "                currentDeepestLists.append(currentList)\n",
    "                deepestLists = currentDeepestLists, deepestDepth\n",
    "        # if the item wasn't a list, then simply move on \n",
    "        else:\n",
    "            i += 1\n"
   ]
  },
  {
   "cell_type": "code",
   "execution_count": null,
   "id": "cb44c113-dcc6-4138-99d8-948e867d4bd7",
   "metadata": {},
   "outputs": [],
   "source": []
  }
 ],
 "metadata": {
  "kernelspec": {
   "display_name": "Python 3 (ipykernel)",
   "language": "python",
   "name": "python3"
  },
  "language_info": {
   "codemirror_mode": {
    "name": "ipython",
    "version": 3
   },
   "file_extension": ".py",
   "mimetype": "text/x-python",
   "name": "python",
   "nbconvert_exporter": "python",
   "pygments_lexer": "ipython3",
   "version": "3.12.5"
  }
 },
 "nbformat": 4,
 "nbformat_minor": 5
}
