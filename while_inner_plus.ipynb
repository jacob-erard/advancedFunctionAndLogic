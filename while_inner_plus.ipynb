{
 "cells": [
  {
   "cell_type": "code",
   "execution_count": 11,
   "id": "f004e237-ae16-4195-9ed9-324298e5b06c",
   "metadata": {},
   "outputs": [
    {
     "name": "stdout",
     "output_type": "stream",
     "text": [
      "[57]\n",
      "[2]\n"
     ]
    }
   ],
   "source": [
    "def while_inner_plus(lis):\n",
    "    depth = 0\n",
    "    currentList = lis.copy()\n",
    "    deepestList = (lis.copy(), 0)\n",
    "    deepestDepth = 0\n",
    "    stack = []\n",
    "    i = 0\n",
    "    while True:\n",
    "        # If we are at the end of any list, do this\n",
    "        if i == len(currentList):\n",
    "            # If we are at the end of list, return the deepest array + 1 to each element\n",
    "            if currentList == lis:\n",
    "                finalList, _ = deepestList\n",
    "                for e in range(len(finalList)):\n",
    "                    finalList[e] += 1\n",
    "                return finalList\n",
    "            # Otherwise, traverse up to a higher level array\n",
    "            else:\n",
    "                currentList, i = stack.pop()\n",
    "                depth -= 1\n",
    "                i += 1\n",
    "                continue\n",
    "        # if the next item is a list, do the following\n",
    "        if isinstance(currentList[i], list):\n",
    "            # Save the current state in stack, set the current list to the inner list, increase the depth, and update deepest list if necessary.\n",
    "            stack.append((currentList, i))\n",
    "            currentList = currentList[i]\n",
    "            depth += 1\n",
    "            i=0\n",
    "            if deepestDepth < depth:\n",
    "                deepestList = (currentList, i)\n",
    "        # if the item wasn't a list, then simply move on \n",
    "        else:\n",
    "            i += 1"
   ]
  },
  {
   "cell_type": "code",
   "execution_count": null,
   "id": "cb44c113-dcc6-4138-99d8-948e867d4bd7",
   "metadata": {},
   "outputs": [],
   "source": []
  }
 ],
 "metadata": {
  "kernelspec": {
   "display_name": "Python 3 (ipykernel)",
   "language": "python",
   "name": "python3"
  },
  "language_info": {
   "codemirror_mode": {
    "name": "ipython",
    "version": 3
   },
   "file_extension": ".py",
   "mimetype": "text/x-python",
   "name": "python",
   "nbconvert_exporter": "python",
   "pygments_lexer": "ipython3",
   "version": "3.12.5"
  }
 },
 "nbformat": 4,
 "nbformat_minor": 5
}
