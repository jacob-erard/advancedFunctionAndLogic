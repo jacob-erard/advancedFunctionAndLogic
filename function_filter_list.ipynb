{
 "cells": [
  {
   "cell_type": "code",
   "execution_count": 7,
   "id": "592dc8ef-1f09-44f6-930a-b59e03a7305a",
   "metadata": {},
   "outputs": [
    {
     "name": "stdout",
     "output_type": "stream",
     "text": [
      "[1, 2, 3, 4, 5, 6]\n"
     ]
    }
   ],
   "source": [
    "def function_filter_list(array, threshold):\n",
    "    # This returns a sublist of array containing all values less than the threshold\n",
    "    return [x for x in array if x <= threshold]"
   ]
  },
  {
   "cell_type": "code",
   "execution_count": null,
   "id": "700acca5-ab0d-4247-80a8-772edf980e97",
   "metadata": {},
   "outputs": [],
   "source": []
  }
 ],
 "metadata": {
  "kernelspec": {
   "display_name": "Python 3 (ipykernel)",
   "language": "python",
   "name": "python3"
  },
  "language_info": {
   "codemirror_mode": {
    "name": "ipython",
    "version": 3
   },
   "file_extension": ".py",
   "mimetype": "text/x-python",
   "name": "python",
   "nbconvert_exporter": "python",
   "pygments_lexer": "ipython3",
   "version": "3.12.5"
  }
 },
 "nbformat": 4,
 "nbformat_minor": 5
}
